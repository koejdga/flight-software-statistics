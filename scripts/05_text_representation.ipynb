{
 "cells": [
  {
   "cell_type": "markdown",
   "id": "aba5848d",
   "metadata": {},
   "source": [
    "## Second Part: Retrieving Insites and Vizualizing"
   ]
  },
  {
   "cell_type": "markdown",
   "id": "be9a85c2",
   "metadata": {},
   "source": [
    "<a id='text_vizualization'></a>\n",
    "### Text Vizualization"
   ]
  },
  {
   "cell_type": "markdown",
   "id": "aec0343b",
   "metadata": {},
   "source": [
    "In this section there is given a textual representation of information found."
   ]
  },
  {
   "cell_type": "markdown",
   "id": "fbaffada",
   "metadata": {},
   "source": [
    "#### Usage Instructions\n",
    "\n",
    "1. Create file named as the variable *'data_filename'* in **class Data** in JSON format. There is default value of the variable which can be changed."
   ]
  },
  {
   "cell_type": "code",
   "execution_count": 75,
   "id": "77ab5550",
   "metadata": {},
   "outputs": [
    {
     "data": {
      "text/plain": [
       "True"
      ]
     },
     "execution_count": 75,
     "metadata": {},
     "output_type": "execute_result"
    }
   ],
   "source": [
    "import sys, os\n",
    "from dotenv import load_dotenv\n",
    "sys.path.append(os.path.abspath(os.path.join('..')))\n",
    "from src.utils import sorted_tuples_list\n",
    "from src.data_serializer import Data\n",
    "load_dotenv()"
   ]
  },
  {
   "cell_type": "code",
   "execution_count": 76,
   "id": "8819fc96",
   "metadata": {},
   "outputs": [],
   "source": [
    "data = Data()"
   ]
  },
  {
   "cell_type": "code",
   "execution_count": 77,
   "id": "ed9fc94c",
   "metadata": {},
   "outputs": [],
   "source": [
    "def get_sim_usage_for_uavs(simulator, data: Data):\n",
    "    return round(data.uav_sim_popularities[simulator] / data.sim_popularities[simulator] * 100)"
   ]
  },
  {
   "cell_type": "code",
   "execution_count": 78,
   "id": "2ee781c3",
   "metadata": {},
   "outputs": [],
   "source": [
    "def get_software_usage_for_uavs(flight_software, data: Data):\n",
    "    return round(\n",
    "        data.uav_software_popularities[flight_software]\n",
    "        / data.software_popularities[flight_software]\n",
    "        * 100\n",
    "    )"
   ]
  },
  {
   "cell_type": "code",
   "execution_count": 79,
   "id": "6e39a00b",
   "metadata": {},
   "outputs": [],
   "source": [
    "def get_usages_for_uavs_for_all_simulators(data: Data):\n",
    "    usages = map(\n",
    "        lambda simulator: (simulator, get_sim_usage_for_uavs(simulator, data)),\n",
    "        data.Simulator,\n",
    "    )\n",
    "    return sorted(usages, key=lambda tup: tup[1], reverse=True)"
   ]
  },
  {
   "cell_type": "code",
   "execution_count": 80,
   "id": "9cb85c14",
   "metadata": {},
   "outputs": [],
   "source": [
    "def usage_of_flight_software(flight_software, simulator, data: Data):\n",
    "    return round(\n",
    "        (\n",
    "            data.soft_sim_distributions[flight_software][simulator]\n",
    "            / data.uav_sim_popularities[simulator]\n",
    "        )\n",
    "        * 100,\n",
    "    )"
   ]
  },
  {
   "cell_type": "code",
   "execution_count": 81,
   "id": "9ba0dcff",
   "metadata": {},
   "outputs": [],
   "source": [
    "def usage_of_simulator(simulator, flight_software, data: Data):\n",
    "    return round(\n",
    "        (\n",
    "            data.soft_sim_distributions[flight_software][simulator]\n",
    "            / data.uav_software_popularities[flight_software]\n",
    "        )\n",
    "        * 100,\n",
    "    )"
   ]
  },
  {
   "cell_type": "code",
   "execution_count": 82,
   "id": "dfc2cd0d",
   "metadata": {},
   "outputs": [],
   "source": [
    "def get_popularities_of_softwares(simulator, data: Data):\n",
    "    popularities = map(\n",
    "        lambda software: (software, usage_of_flight_software(software, simulator, data)),\n",
    "        data.Flight_Software,\n",
    "    )\n",
    "    popularities = sorted(popularities, key=lambda tup: tup[1], reverse=True)\n",
    "    return popularities"
   ]
  },
  {
   "cell_type": "code",
   "execution_count": 83,
   "id": "d48900ab",
   "metadata": {},
   "outputs": [],
   "source": [
    "def get_popularities_for_all_simulators(data: Data):\n",
    "    return list(\n",
    "        map(\n",
    "            lambda simulator: (simulator, get_popularities_of_softwares(simulator, data)),\n",
    "            data.Simulator,\n",
    "        )\n",
    "    )"
   ]
  },
  {
   "cell_type": "code",
   "execution_count": 84,
   "id": "ca30a841",
   "metadata": {},
   "outputs": [],
   "source": [
    "def pretty_print_popularities_of_software(popularities):\n",
    "    for software, percent in popularities:\n",
    "        print(f\"{software.value}: {percent}%\")\n"
   ]
  },
  {
   "cell_type": "code",
   "execution_count": 85,
   "id": "c33a4d92",
   "metadata": {},
   "outputs": [],
   "source": [
    "def pretty_print_popularities_of_simulators(popularities):\n",
    "    for simulator, percent in popularities:\n",
    "        print(f\"{simulator.value}: {percent}%\")"
   ]
  },
  {
   "cell_type": "code",
   "execution_count": 86,
   "id": "53d31f1c",
   "metadata": {},
   "outputs": [],
   "source": [
    "def get_popularities_of_simulators(software, data: Data):\n",
    "    popularities = map(\n",
    "        lambda simulator: (simulator, usage_of_simulator(simulator, software, data)),\n",
    "        data.Simulator,\n",
    "    )\n",
    "    popularities = sorted(popularities, key=lambda tup: tup[1], reverse=True)\n",
    "    return popularities"
   ]
  },
  {
   "cell_type": "code",
   "execution_count": 87,
   "id": "b2338061",
   "metadata": {},
   "outputs": [],
   "source": [
    "def get_popularities_for_all_softwares(data: Data):\n",
    "    return list(\n",
    "        map(\n",
    "            lambda software: (\n",
    "                software,\n",
    "                get_popularities_of_simulators(software, data),\n",
    "            ),\n",
    "            data.Flight_Software,\n",
    "        )\n",
    "    )"
   ]
  },
  {
   "cell_type": "code",
   "execution_count": 88,
   "id": "ce096463",
   "metadata": {},
   "outputs": [],
   "source": [
    "def pretty_print_popularities_for_all_simulators(simulators_popularity, software_popularities_for_simulators):\n",
    "    simulator_popularities = sorted_tuples_list(simulators_popularity)\n",
    "    for simulator, popularity in simulator_popularities:\n",
    "        print(\n",
    "            f\"{simulator.value} ({popularity} mentions overall, with {get_sim_usage_for_uavs(simulator, data)}% mentions with UAVs)\"\n",
    "        )\n",
    "        softwares = next(\n",
    "            filter(\n",
    "                lambda tup: tup[0] == simulator, software_popularities_for_simulators\n",
    "            ),\n",
    "        )[1]\n",
    "        pretty_print_popularities_of_software(softwares)\n",
    "        print()"
   ]
  },
  {
   "cell_type": "code",
   "execution_count": 89,
   "id": "b5e46d6e",
   "metadata": {},
   "outputs": [],
   "source": [
    "def pretty_print_popularities_for_all_softwares(flight_softwares_popularity, simulator_popularities_for_softwares):\n",
    "    popularities = sorted_tuples_list(flight_softwares_popularity)\n",
    "    for software, popularity in popularities:\n",
    "        print(\n",
    "            f\"Flight control software {software.value}: {popularity} mentions overall, with {get_software_usage_for_uavs(software, data)}% mentions with UAVs\"\n",
    "        )\n",
    "        simulators = next(\n",
    "            filter(\n",
    "                lambda tup: tup[0] == software, simulator_popularities_for_softwares\n",
    "            ),\n",
    "        )[1]\n",
    "        pretty_print_popularities_of_simulators(simulators)\n",
    "        print()"
   ]
  },
  {
   "cell_type": "code",
   "execution_count": 90,
   "id": "5a95262f",
   "metadata": {},
   "outputs": [],
   "source": [
    "def pretty_print_uav_popularities_for_all_softwares(flight_softwares_uav_popularity):\n",
    "    popularities = sorted_tuples_list(flight_softwares_uav_popularity)\n",
    "    for software, popularity in popularities:\n",
    "        print(\n",
    "            f\"Flight control software {software.value}: {popularity} mentions with UAVs\"\n",
    "        )\n",
    "    print()"
   ]
  },
  {
   "cell_type": "code",
   "execution_count": 91,
   "id": "7b7a293f",
   "metadata": {},
   "outputs": [],
   "source": [
    "def pretty_print_uav_popularities_for_all_simulators(sim_uav_popularity):\n",
    "    popularities = sorted_tuples_list(sim_uav_popularity)\n",
    "    for simulator, popularity in popularities:\n",
    "        print(f\"Simulator {simulator.value}: {popularity} mentions with UAVs\")\n",
    "    print()\n"
   ]
  },
  {
   "cell_type": "code",
   "execution_count": 92,
   "id": "974e50cb",
   "metadata": {},
   "outputs": [
    {
     "ename": "KeyError",
     "evalue": "<DynamicEnum.NVIDIA Isaac Sim: 'NVIDIA Isaac Sim'>",
     "output_type": "error",
     "traceback": [
      "\u001b[0;31m---------------------------------------------------------------------------\u001b[0m",
      "\u001b[0;31mKeyError\u001b[0m                                  Traceback (most recent call last)",
      "Cell \u001b[0;32mIn[92], line 1\u001b[0m\n\u001b[0;32m----> 1\u001b[0m sim_popularities \u001b[38;5;241m=\u001b[39m \u001b[43mget_popularities_for_all_simulators\u001b[49m\u001b[43m(\u001b[49m\u001b[43mdata\u001b[49m\u001b[43m)\u001b[49m\n\u001b[1;32m      2\u001b[0m software_popularities \u001b[38;5;241m=\u001b[39m get_popularities_for_all_softwares(data)\n",
      "Cell \u001b[0;32mIn[83], line 2\u001b[0m, in \u001b[0;36mget_popularities_for_all_simulators\u001b[0;34m(data)\u001b[0m\n\u001b[1;32m      1\u001b[0m \u001b[38;5;28;01mdef\u001b[39;00m\u001b[38;5;250m \u001b[39m\u001b[38;5;21mget_popularities_for_all_simulators\u001b[39m(data: Data):\n\u001b[0;32m----> 2\u001b[0m     \u001b[38;5;28;01mreturn\u001b[39;00m \u001b[38;5;28;43mlist\u001b[39;49m\u001b[43m(\u001b[49m\n\u001b[1;32m      3\u001b[0m \u001b[43m        \u001b[49m\u001b[38;5;28;43mmap\u001b[39;49m\u001b[43m(\u001b[49m\n\u001b[1;32m      4\u001b[0m \u001b[43m            \u001b[49m\u001b[38;5;28;43;01mlambda\u001b[39;49;00m\u001b[43m \u001b[49m\u001b[43msimulator\u001b[49m\u001b[43m:\u001b[49m\u001b[43m \u001b[49m\u001b[43m(\u001b[49m\u001b[43msimulator\u001b[49m\u001b[43m,\u001b[49m\u001b[43m \u001b[49m\u001b[43mget_popularities_of_softwares\u001b[49m\u001b[43m(\u001b[49m\u001b[43msimulator\u001b[49m\u001b[43m,\u001b[49m\u001b[43m \u001b[49m\u001b[43mdata\u001b[49m\u001b[43m)\u001b[49m\u001b[43m)\u001b[49m\u001b[43m,\u001b[49m\n\u001b[1;32m      5\u001b[0m \u001b[43m            \u001b[49m\u001b[43mdata\u001b[49m\u001b[38;5;241;43m.\u001b[39;49m\u001b[43mSimulator\u001b[49m\u001b[43m,\u001b[49m\n\u001b[1;32m      6\u001b[0m \u001b[43m        \u001b[49m\u001b[43m)\u001b[49m\n\u001b[1;32m      7\u001b[0m \u001b[43m    \u001b[49m\u001b[43m)\u001b[49m\n",
      "Cell \u001b[0;32mIn[83], line 4\u001b[0m, in \u001b[0;36mget_popularities_for_all_simulators.<locals>.<lambda>\u001b[0;34m(simulator)\u001b[0m\n\u001b[1;32m      1\u001b[0m \u001b[38;5;28;01mdef\u001b[39;00m\u001b[38;5;250m \u001b[39m\u001b[38;5;21mget_popularities_for_all_simulators\u001b[39m(data: Data):\n\u001b[1;32m      2\u001b[0m     \u001b[38;5;28;01mreturn\u001b[39;00m \u001b[38;5;28mlist\u001b[39m(\n\u001b[1;32m      3\u001b[0m         \u001b[38;5;28mmap\u001b[39m(\n\u001b[0;32m----> 4\u001b[0m             \u001b[38;5;28;01mlambda\u001b[39;00m simulator: (simulator, \u001b[43mget_popularities_of_softwares\u001b[49m\u001b[43m(\u001b[49m\u001b[43msimulator\u001b[49m\u001b[43m,\u001b[49m\u001b[43m \u001b[49m\u001b[43mdata\u001b[49m\u001b[43m)\u001b[49m),\n\u001b[1;32m      5\u001b[0m             data\u001b[38;5;241m.\u001b[39mSimulator,\n\u001b[1;32m      6\u001b[0m         )\n\u001b[1;32m      7\u001b[0m     )\n",
      "Cell \u001b[0;32mIn[82], line 6\u001b[0m, in \u001b[0;36mget_popularities_of_softwares\u001b[0;34m(simulator, data)\u001b[0m\n\u001b[1;32m      1\u001b[0m \u001b[38;5;28;01mdef\u001b[39;00m\u001b[38;5;250m \u001b[39m\u001b[38;5;21mget_popularities_of_softwares\u001b[39m(simulator, data: Data):\n\u001b[1;32m      2\u001b[0m     popularities \u001b[38;5;241m=\u001b[39m \u001b[38;5;28mmap\u001b[39m(\n\u001b[1;32m      3\u001b[0m         \u001b[38;5;28;01mlambda\u001b[39;00m software: (software, usage_of_flight_software(software, simulator, data)),\n\u001b[1;32m      4\u001b[0m         data\u001b[38;5;241m.\u001b[39mFlight_Software,\n\u001b[1;32m      5\u001b[0m     )\n\u001b[0;32m----> 6\u001b[0m     popularities \u001b[38;5;241m=\u001b[39m \u001b[38;5;28;43msorted\u001b[39;49m\u001b[43m(\u001b[49m\u001b[43mpopularities\u001b[49m\u001b[43m,\u001b[49m\u001b[43m \u001b[49m\u001b[43mkey\u001b[49m\u001b[38;5;241;43m=\u001b[39;49m\u001b[38;5;28;43;01mlambda\u001b[39;49;00m\u001b[43m \u001b[49m\u001b[43mtup\u001b[49m\u001b[43m:\u001b[49m\u001b[43m \u001b[49m\u001b[43mtup\u001b[49m\u001b[43m[\u001b[49m\u001b[38;5;241;43m1\u001b[39;49m\u001b[43m]\u001b[49m\u001b[43m,\u001b[49m\u001b[43m \u001b[49m\u001b[43mreverse\u001b[49m\u001b[38;5;241;43m=\u001b[39;49m\u001b[38;5;28;43;01mTrue\u001b[39;49;00m\u001b[43m)\u001b[49m\n\u001b[1;32m      7\u001b[0m     \u001b[38;5;28;01mreturn\u001b[39;00m popularities\n",
      "Cell \u001b[0;32mIn[82], line 3\u001b[0m, in \u001b[0;36mget_popularities_of_softwares.<locals>.<lambda>\u001b[0;34m(software)\u001b[0m\n\u001b[1;32m      1\u001b[0m \u001b[38;5;28;01mdef\u001b[39;00m\u001b[38;5;250m \u001b[39m\u001b[38;5;21mget_popularities_of_softwares\u001b[39m(simulator, data: Data):\n\u001b[1;32m      2\u001b[0m     popularities \u001b[38;5;241m=\u001b[39m \u001b[38;5;28mmap\u001b[39m(\n\u001b[0;32m----> 3\u001b[0m         \u001b[38;5;28;01mlambda\u001b[39;00m software: (software, \u001b[43musage_of_flight_software\u001b[49m\u001b[43m(\u001b[49m\u001b[43msoftware\u001b[49m\u001b[43m,\u001b[49m\u001b[43m \u001b[49m\u001b[43msimulator\u001b[49m\u001b[43m,\u001b[49m\u001b[43m \u001b[49m\u001b[43mdata\u001b[49m\u001b[43m)\u001b[49m),\n\u001b[1;32m      4\u001b[0m         data\u001b[38;5;241m.\u001b[39mFlight_Software,\n\u001b[1;32m      5\u001b[0m     )\n\u001b[1;32m      6\u001b[0m     popularities \u001b[38;5;241m=\u001b[39m \u001b[38;5;28msorted\u001b[39m(popularities, key\u001b[38;5;241m=\u001b[39m\u001b[38;5;28;01mlambda\u001b[39;00m tup: tup[\u001b[38;5;241m1\u001b[39m], reverse\u001b[38;5;241m=\u001b[39m\u001b[38;5;28;01mTrue\u001b[39;00m)\n\u001b[1;32m      7\u001b[0m     \u001b[38;5;28;01mreturn\u001b[39;00m popularities\n",
      "Cell \u001b[0;32mIn[80], line 4\u001b[0m, in \u001b[0;36musage_of_flight_software\u001b[0;34m(flight_software, simulator, data)\u001b[0m\n\u001b[1;32m      1\u001b[0m \u001b[38;5;28;01mdef\u001b[39;00m\u001b[38;5;250m \u001b[39m\u001b[38;5;21musage_of_flight_software\u001b[39m(flight_software, simulator, data: Data):\n\u001b[1;32m      2\u001b[0m     \u001b[38;5;28;01mreturn\u001b[39;00m \u001b[38;5;28mround\u001b[39m(\n\u001b[1;32m      3\u001b[0m         (\n\u001b[0;32m----> 4\u001b[0m             \u001b[43mdata\u001b[49m\u001b[38;5;241;43m.\u001b[39;49m\u001b[43msoft_sim_distributions\u001b[49m\u001b[43m[\u001b[49m\u001b[43mflight_software\u001b[49m\u001b[43m]\u001b[49m\u001b[43m[\u001b[49m\u001b[43msimulator\u001b[49m\u001b[43m]\u001b[49m\n\u001b[1;32m      5\u001b[0m             \u001b[38;5;241m/\u001b[39m data\u001b[38;5;241m.\u001b[39muav_sim_popularities[simulator]\n\u001b[1;32m      6\u001b[0m         )\n\u001b[1;32m      7\u001b[0m         \u001b[38;5;241m*\u001b[39m \u001b[38;5;241m100\u001b[39m,\n\u001b[1;32m      8\u001b[0m     )\n",
      "\u001b[0;31mKeyError\u001b[0m: <DynamicEnum.NVIDIA Isaac Sim: 'NVIDIA Isaac Sim'>"
     ]
    }
   ],
   "source": [
    "sim_popularities = get_popularities_for_all_simulators(data)\n",
    "software_popularities = get_popularities_for_all_softwares(data)"
   ]
  },
  {
   "cell_type": "code",
   "execution_count": null,
   "id": "463983b6",
   "metadata": {},
   "outputs": [],
   "source": [
    "pretty_print_popularities_for_all_simulators(data.sim_popularities, sim_popularities)"
   ]
  },
  {
   "cell_type": "code",
   "execution_count": null,
   "id": "30ad7bc8",
   "metadata": {},
   "outputs": [],
   "source": [
    "pretty_print_popularities_for_all_softwares(\n",
    "    data.software_popularities, software_popularities\n",
    ")"
   ]
  },
  {
   "cell_type": "code",
   "execution_count": null,
   "id": "fa9349e5",
   "metadata": {},
   "outputs": [],
   "source": [
    "pretty_print_uav_popularities_for_all_simulators(data.uav_sim_popularities)"
   ]
  },
  {
   "cell_type": "code",
   "execution_count": null,
   "id": "d86f9e2d",
   "metadata": {},
   "outputs": [],
   "source": [
    "pretty_print_uav_popularities_for_all_softwares(data.uav_software_popularities)"
   ]
  }
 ],
 "metadata": {
  "kernelspec": {
   "display_name": ".venv",
   "language": "python",
   "name": "python3"
  },
  "language_info": {
   "codemirror_mode": {
    "name": "ipython",
    "version": 3
   },
   "file_extension": ".py",
   "mimetype": "text/x-python",
   "name": "python",
   "nbconvert_exporter": "python",
   "pygments_lexer": "ipython3",
   "version": "3.13.3"
  }
 },
 "nbformat": 4,
 "nbformat_minor": 5
}
